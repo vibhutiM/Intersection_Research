{
 "cells": [
  {
   "cell_type": "code",
   "execution_count": 1,
   "metadata": {
    "collapsed": false
   },
   "outputs": [
    {
     "name": "stderr",
     "output_type": "stream",
     "text": [
      "Using Theano backend.\n",
      "Using gpu device 0: GeForce GTX 965M (CNMeM is enabled with initial size: 80.0% of memory, cuDNN 5105)\n"
     ]
    }
   ],
   "source": [
    "import keras\n",
    "import keras.models\n",
    "from keras.models import Sequential, Model\n",
    "from keras.layers import Dense\n",
    "from keras.layers import Reshape\n",
    "from keras.layers.core import Activation\n",
    "from keras.layers.advanced_activations import LeakyReLU\n",
    "from keras.layers.normalization import BatchNormalization\n",
    "#from keras.layers.convolutional import UpSampling2D, Convolution2D\n",
    "from keras.layers import Dense, Dropout, Activation, Flatten\n",
    "from keras.layers import Convolution2D, MaxPooling2D, UpSampling2D, Deconvolution2D, Input, merge\n",
    "from keras.layers.core import Flatten\n",
    "from keras.optimizers import Adam\n",
    "from keras import backend as K\n",
    "from keras.models import load_model\n",
    "import scipy\n",
    "import numpy as np\n",
    "import sys, glob\n",
    "import cv2\n",
    "import os\n",
    "import argparse\n",
    "#import sklearn.feature_extraction\n",
    "from sklearn.feature_extraction.image import extract_patches_2d\n",
    "\n",
    "def load_image(path):\n",
    "    img = cv2.imread(path, 1)\n",
    "    #img = np.float32(cv2.resize(img, (32, 32))) / 127.5 - 1\n",
    "    #img = np.float32(img) / 127.5 - 1\n",
    "    img = np.rollaxis(np.float32(img), 2, 0)\n",
    "    return img\n",
    "  \n",
    "def get_batches(paths_a, batch_size):\n",
    "    for i in range(len(paths_a)/batch_size):\n",
    "        yield i, [load_image(path) for path in paths_a[i*batch_size : (i + 1) * batch_size]]\n",
    "\n",
    "def get_new_batch(path_input, resize_size = 1.):   \n",
    "    paths = glob.glob(os.path.join(path_input, \"*.png\"))\n",
    "    all_patches = []\n",
    "    print paths\n",
    "    from scipy.misc import imresize\n",
    "    for index, image_batch_a in get_batches(paths, batch_size=1):\n",
    "        #print index\n",
    "        #print(image_batch_a[0].shape)\n",
    "        current_im = image_batch_a[0]\n",
    "        #if resize_size<1:\n",
    "        #    current_im = extract_patches_2d(current_im,(512,512))\n",
    "        #current_im = current_im[:,::4,::4]\n",
    "        #current_im = imresize(image_batch_a[0], resize_size, interp='nearest')\n",
    "\n",
    "        #current_im = np.rollaxis(np.float32(current_im), 2, 0)\n",
    "        current_im  = np.expand_dims(current_im, axis = 0)\n",
    "        all_patches.append(current_im)\n",
    "    X_H = np.concatenate(all_patches)\n",
    "\n",
    "    return X_H\n"
   ]
  },
  {
   "cell_type": "code",
   "execution_count": 5,
   "metadata": {
    "collapsed": false,
    "scrolled": true
   },
   "outputs": [
    {
     "name": "stdout",
     "output_type": "stream",
     "text": [
      "['inputs\\\\14_.png', 'inputs\\\\17_.png', 'inputs\\\\21_.png', 'inputs\\\\25_.png', 'inputs\\\\29_.png', 'inputs\\\\2_.png', 'inputs\\\\33_.png', 'inputs\\\\35_.png', 'inputs\\\\4_.png', 'inputs\\\\5_.png', 'inputs\\\\9_.png', 'inputs\\\\o10_.png', 'inputs\\\\o15_.png', 'inputs\\\\o1_.png', 'inputs\\\\o20_.png', 'inputs\\\\o25_.png', 'inputs\\\\o30_.png', 'inputs\\\\o35_.png', 'inputs\\\\o5_.png']\n",
      "['outputs\\\\14_l.png', 'outputs\\\\17_l.png', 'outputs\\\\21_l.png', 'outputs\\\\25_l.png', 'outputs\\\\29_l.png', 'outputs\\\\2_l.png', 'outputs\\\\33_l.png', 'outputs\\\\35_l.png', 'outputs\\\\4_l.png', 'outputs\\\\5_l.png', 'outputs\\\\9_l.png', 'outputs\\\\o10_l.png', 'outputs\\\\o15_l.png', 'outputs\\\\o1_l.png', 'outputs\\\\o20_l.png', 'outputs\\\\o25_l.png', 'outputs\\\\o30_l.png', 'outputs\\\\o35_l.png', 'outputs\\\\o5_l.png']\n",
      "(19L, 3L, 1024L, 1024L)\n",
      "(19L, 3L, 1024L, 1024L)\n",
      "____________________________________________________________________________________________________\n",
      "Layer (type)                     Output Shape          Param #     Connected to                     \n",
      "====================================================================================================\n",
      "input_4 (InputLayer)             (None, 3, 1024, 1024) 0                                            \n",
      "____________________________________________________________________________________________________\n",
      "convolution2d_67 (Convolution2D) (None, 32, 1024, 1024)896         input_4[0][0]                    \n",
      "____________________________________________________________________________________________________\n",
      "batchnormalization_64 (BatchNorma(None, 32, 1024, 1024)64          convolution2d_67[0][0]           \n",
      "____________________________________________________________________________________________________\n",
      "convolution2d_68 (Convolution2D) (None, 32, 1024, 1024)9248        batchnormalization_64[0][0]      \n",
      "____________________________________________________________________________________________________\n",
      "batchnormalization_65 (BatchNorma(None, 32, 1024, 1024)64          convolution2d_68[0][0]           \n",
      "____________________________________________________________________________________________________\n",
      "maxpooling2d_16 (MaxPooling2D)   (None, 32, 512, 512)  0           batchnormalization_65[0][0]      \n",
      "____________________________________________________________________________________________________\n",
      "convolution2d_69 (Convolution2D) (None, 32, 512, 512)  9248        maxpooling2d_16[0][0]            \n",
      "____________________________________________________________________________________________________\n",
      "batchnormalization_66 (BatchNorma(None, 32, 512, 512)  64          convolution2d_69[0][0]           \n",
      "____________________________________________________________________________________________________\n",
      "convolution2d_70 (Convolution2D) (None, 32, 512, 512)  9248        batchnormalization_66[0][0]      \n",
      "____________________________________________________________________________________________________\n",
      "batchnormalization_67 (BatchNorma(None, 32, 512, 512)  64          convolution2d_70[0][0]           \n",
      "____________________________________________________________________________________________________\n",
      "maxpooling2d_17 (MaxPooling2D)   (None, 32, 256, 256)  0           batchnormalization_67[0][0]      \n",
      "____________________________________________________________________________________________________\n",
      "convolution2d_71 (Convolution2D) (None, 32, 256, 256)  9248        maxpooling2d_17[0][0]            \n",
      "____________________________________________________________________________________________________\n",
      "batchnormalization_68 (BatchNorma(None, 32, 256, 256)  64          convolution2d_71[0][0]           \n",
      "____________________________________________________________________________________________________\n",
      "convolution2d_72 (Convolution2D) (None, 32, 256, 256)  9248        batchnormalization_68[0][0]      \n",
      "____________________________________________________________________________________________________\n",
      "batchnormalization_69 (BatchNorma(None, 32, 256, 256)  64          convolution2d_72[0][0]           \n",
      "____________________________________________________________________________________________________\n",
      "maxpooling2d_18 (MaxPooling2D)   (None, 32, 128, 128)  0           batchnormalization_69[0][0]      \n",
      "____________________________________________________________________________________________________\n",
      "convolution2d_73 (Convolution2D) (None, 32, 128, 128)  9248        maxpooling2d_18[0][0]            \n",
      "____________________________________________________________________________________________________\n",
      "batchnormalization_70 (BatchNorma(None, 32, 128, 128)  64          convolution2d_73[0][0]           \n",
      "____________________________________________________________________________________________________\n",
      "convolution2d_74 (Convolution2D) (None, 32, 128, 128)  9248        batchnormalization_70[0][0]      \n",
      "____________________________________________________________________________________________________\n",
      "batchnormalization_71 (BatchNorma(None, 32, 128, 128)  64          convolution2d_74[0][0]           \n",
      "____________________________________________________________________________________________________\n",
      "maxpooling2d_19 (MaxPooling2D)   (None, 32, 64, 64)    0           batchnormalization_71[0][0]      \n",
      "____________________________________________________________________________________________________\n",
      "convolution2d_75 (Convolution2D) (None, 16, 64, 64)    4624        maxpooling2d_19[0][0]            \n",
      "____________________________________________________________________________________________________\n",
      "batchnormalization_72 (BatchNorma(None, 16, 64, 64)    32          convolution2d_75[0][0]           \n",
      "____________________________________________________________________________________________________\n",
      "convolution2d_76 (Convolution2D) (None, 16, 64, 64)    2320        batchnormalization_72[0][0]      \n",
      "____________________________________________________________________________________________________\n",
      "batchnormalization_73 (BatchNorma(None, 16, 64, 64)    32          convolution2d_76[0][0]           \n",
      "____________________________________________________________________________________________________\n",
      "maxpooling2d_20 (MaxPooling2D)   (None, 16, 32, 32)    0           batchnormalization_73[0][0]      \n",
      "____________________________________________________________________________________________________\n",
      "convolution2d_77 (Convolution2D) (None, 16, 32, 32)    2320        maxpooling2d_20[0][0]            \n",
      "____________________________________________________________________________________________________\n",
      "upsampling2d_16 (UpSampling2D)   (None, 16, 64, 64)    0           convolution2d_77[0][0]           \n",
      "____________________________________________________________________________________________________\n",
      "convolution2d_78 (Convolution2D) (None, 16, 64, 64)    2320        upsampling2d_16[0][0]            \n",
      "____________________________________________________________________________________________________\n",
      "batchnormalization_74 (BatchNorma(None, 16, 64, 64)    32          convolution2d_78[0][0]           \n",
      "____________________________________________________________________________________________________\n",
      "convolution2d_79 (Convolution2D) (None, 16, 64, 64)    2320        batchnormalization_74[0][0]      \n",
      "____________________________________________________________________________________________________\n",
      "batchnormalization_75 (BatchNorma(None, 16, 64, 64)    32          convolution2d_79[0][0]           \n",
      "____________________________________________________________________________________________________\n",
      "merge_16 (Merge)                 (None, 16, 64, 64)    0           batchnormalization_73[0][0]      \n",
      "                                                                   batchnormalization_75[0][0]      \n",
      "____________________________________________________________________________________________________\n",
      "upsampling2d_17 (UpSampling2D)   (None, 16, 128, 128)  0           merge_16[0][0]                   \n",
      "____________________________________________________________________________________________________\n",
      "convolution2d_80 (Convolution2D) (None, 32, 128, 128)  4640        upsampling2d_17[0][0]            \n",
      "____________________________________________________________________________________________________\n",
      "batchnormalization_76 (BatchNorma(None, 32, 128, 128)  64          convolution2d_80[0][0]           \n",
      "____________________________________________________________________________________________________\n",
      "convolution2d_81 (Convolution2D) (None, 32, 128, 128)  9248        batchnormalization_76[0][0]      \n",
      "____________________________________________________________________________________________________\n",
      "batchnormalization_77 (BatchNorma(None, 32, 128, 128)  64          convolution2d_81[0][0]           \n",
      "____________________________________________________________________________________________________\n",
      "merge_17 (Merge)                 (None, 32, 128, 128)  0           batchnormalization_71[0][0]      \n",
      "                                                                   batchnormalization_77[0][0]      \n",
      "____________________________________________________________________________________________________\n",
      "upsampling2d_18 (UpSampling2D)   (None, 32, 256, 256)  0           merge_17[0][0]                   \n",
      "____________________________________________________________________________________________________\n",
      "convolution2d_82 (Convolution2D) (None, 32, 256, 256)  9248        upsampling2d_18[0][0]            \n",
      "____________________________________________________________________________________________________\n",
      "batchnormalization_78 (BatchNorma(None, 32, 256, 256)  64          convolution2d_82[0][0]           \n",
      "____________________________________________________________________________________________________\n",
      "convolution2d_83 (Convolution2D) (None, 32, 256, 256)  9248        batchnormalization_78[0][0]      \n",
      "____________________________________________________________________________________________________\n",
      "batchnormalization_79 (BatchNorma(None, 32, 256, 256)  64          convolution2d_83[0][0]           \n",
      "____________________________________________________________________________________________________\n",
      "merge_18 (Merge)                 (None, 32, 256, 256)  0           batchnormalization_69[0][0]      \n",
      "                                                                   batchnormalization_79[0][0]      \n",
      "____________________________________________________________________________________________________\n",
      "upsampling2d_19 (UpSampling2D)   (None, 32, 512, 512)  0           merge_18[0][0]                   \n",
      "____________________________________________________________________________________________________\n",
      "convolution2d_84 (Convolution2D) (None, 32, 512, 512)  9248        upsampling2d_19[0][0]            \n",
      "____________________________________________________________________________________________________\n",
      "batchnormalization_80 (BatchNorma(None, 32, 512, 512)  64          convolution2d_84[0][0]           \n",
      "____________________________________________________________________________________________________\n",
      "convolution2d_85 (Convolution2D) (None, 32, 512, 512)  9248        batchnormalization_80[0][0]      \n",
      "____________________________________________________________________________________________________\n",
      "batchnormalization_81 (BatchNorma(None, 32, 512, 512)  64          convolution2d_85[0][0]           \n",
      "____________________________________________________________________________________________________\n",
      "merge_19 (Merge)                 (None, 32, 512, 512)  0           batchnormalization_67[0][0]      \n",
      "                                                                   batchnormalization_81[0][0]      \n",
      "____________________________________________________________________________________________________\n",
      "upsampling2d_20 (UpSampling2D)   (None, 32, 1024, 1024)0           merge_19[0][0]                   \n",
      "____________________________________________________________________________________________________\n",
      "convolution2d_86 (Convolution2D) (None, 32, 1024, 1024)9248        upsampling2d_20[0][0]            \n",
      "____________________________________________________________________________________________________\n",
      "batchnormalization_82 (BatchNorma(None, 32, 1024, 1024)64          convolution2d_86[0][0]           \n",
      "____________________________________________________________________________________________________\n",
      "convolution2d_87 (Convolution2D) (None, 32, 1024, 1024)9248        batchnormalization_82[0][0]      \n",
      "____________________________________________________________________________________________________\n",
      "batchnormalization_83 (BatchNorma(None, 32, 1024, 1024)64          convolution2d_87[0][0]           \n",
      "____________________________________________________________________________________________________\n",
      "merge_20 (Merge)                 (None, 32, 1024, 1024)0           batchnormalization_65[0][0]      \n",
      "                                                                   batchnormalization_83[0][0]      \n",
      "____________________________________________________________________________________________________\n",
      "convolution2d_88 (Convolution2D) (None, 3, 1024, 1024) 2403        merge_20[0][0]                   \n",
      "____________________________________________________________________________________________________\n",
      "batchnormalization_84 (BatchNorma(None, 3, 1024, 1024) 6           convolution2d_88[0][0]           \n",
      "____________________________________________________________________________________________________\n",
      "pixellayer_4 (PixelLayer)        (None, 3, 1024, 1024) 0           batchnormalization_84[0][0]      \n",
      "====================================================================================================\n",
      "Total params: 152473\n",
      "____________________________________________________________________________________________________\n",
      "Train on 16 samples, validate on 3 samples\n",
      "Epoch 1/256\n"
     ]
    },
    {
     "ename": "MemoryError",
     "evalue": "Error allocating 134217728 bytes of device memory (CNMEM_STATUS_OUT_OF_MEMORY).\nApply node that caused the error: GpuAlloc(GpuDimShuffle{0,1,2,3,x}.0, Shape_i{0}.0, TensorConstant{32}, Elemwise{Composite{Switch(EQ(i0, i1), i2, i0)}}.0, Elemwise{switch,no_inplace}.0, TensorConstant{2})\nToposort index: 890\nInputs types: [CudaNdarrayType(float32, (False, False, False, False, True)), TensorType(int64, scalar), TensorType(int64, scalar), TensorType(int64, scalar), TensorType(int64, scalar), TensorType(int8, scalar)]\nInputs shapes: [(1, 32, 1024, 512, 1), (), (), (), (), ()]\nInputs strides: [(0, 524288, 512, 1, 0), (), (), (), (), ()]\nInputs values: ['not shown', array(1L, dtype=int64), array(32L, dtype=int64), array(1024L, dtype=int64), array(512L, dtype=int64), array(2, dtype=int8)]\nOutputs clients: [[GpuReshape{4}(GpuAlloc.0, MakeVector{dtype='int64'}.0)]]\n\nHINT: Re-running with most Theano optimization disabled could give you a back-trace of when this node was created. This can be done with by setting the Theano flag 'optimizer=fast_compile'. If that does not work, Theano optimizations can be disabled with 'optimizer=None'.\nHINT: Use the Theano flag 'exception_verbosity=high' for a debugprint and storage map footprint of this apply node.",
     "output_type": "error",
     "traceback": [
      "\u001b[0;31m--------------------------------------------------------------------------\u001b[0m",
      "\u001b[0;31mMemoryError\u001b[0m                              Traceback (most recent call last)",
      "\u001b[0;32m<ipython-input-5-4ca86896a58c>\u001b[0m in \u001b[0;36m<module>\u001b[0;34m()\u001b[0m\n\u001b[1;32m     89\u001b[0m \u001b[1;33m\u001b[0m\u001b[0m\n\u001b[1;32m     90\u001b[0m \u001b[1;33m\u001b[0m\u001b[0m\n\u001b[0;32m---> 91\u001b[0;31m \u001b[0mfull_model\u001b[0m\u001b[1;33m.\u001b[0m\u001b[0mfit\u001b[0m\u001b[1;33m(\u001b[0m\u001b[0mX_H\u001b[0m\u001b[1;33m[\u001b[0m\u001b[0mtrain_inds\u001b[0m\u001b[1;33m]\u001b[0m \u001b[1;33m/\u001b[0m \u001b[1;36m255.\u001b[0m\u001b[1;33m,\u001b[0m \u001b[0mX_G\u001b[0m\u001b[1;33m[\u001b[0m\u001b[0mtrain_inds\u001b[0m\u001b[1;33m]\u001b[0m \u001b[1;33m/\u001b[0m \u001b[1;36m255.\u001b[0m\u001b[1;33m,\u001b[0m \u001b[0mbatch_size\u001b[0m \u001b[1;33m=\u001b[0m \u001b[1;36m1\u001b[0m\u001b[1;33m,\u001b[0m \u001b[0mnb_epoch\u001b[0m \u001b[1;33m=\u001b[0m \u001b[1;36m256\u001b[0m\u001b[1;33m,\u001b[0m \u001b[0mvalidation_split\u001b[0m \u001b[1;33m=\u001b[0m \u001b[1;36m0.15\u001b[0m\u001b[1;33m,\u001b[0m \u001b[0mcallbacks\u001b[0m \u001b[1;33m=\u001b[0m \u001b[1;33m[\u001b[0m\u001b[0mes\u001b[0m\u001b[1;33m,\u001b[0m \u001b[0mer\u001b[0m\u001b[1;33m]\u001b[0m\u001b[1;33m)\u001b[0m\u001b[1;33m\u001b[0m\u001b[0m\n\u001b[0m\u001b[1;32m     92\u001b[0m \u001b[1;31m#full_model.load_weights('segcheck')\u001b[0m\u001b[1;33m\u001b[0m\u001b[1;33m\u001b[0m\u001b[0m\n",
      "\u001b[0;32mc:\\python27\\lib\\site-packages\\keras\\engine\\training.pyc\u001b[0m in \u001b[0;36mfit\u001b[0;34m(self, x, y, batch_size, nb_epoch, verbose, callbacks, validation_split, validation_data, shuffle, class_weight, sample_weight)\u001b[0m\n\u001b[1;32m   1122\u001b[0m                               \u001b[0mverbose\u001b[0m\u001b[1;33m=\u001b[0m\u001b[0mverbose\u001b[0m\u001b[1;33m,\u001b[0m \u001b[0mcallbacks\u001b[0m\u001b[1;33m=\u001b[0m\u001b[0mcallbacks\u001b[0m\u001b[1;33m,\u001b[0m\u001b[1;33m\u001b[0m\u001b[0m\n\u001b[1;32m   1123\u001b[0m                               \u001b[0mval_f\u001b[0m\u001b[1;33m=\u001b[0m\u001b[0mval_f\u001b[0m\u001b[1;33m,\u001b[0m \u001b[0mval_ins\u001b[0m\u001b[1;33m=\u001b[0m\u001b[0mval_ins\u001b[0m\u001b[1;33m,\u001b[0m \u001b[0mshuffle\u001b[0m\u001b[1;33m=\u001b[0m\u001b[0mshuffle\u001b[0m\u001b[1;33m,\u001b[0m\u001b[1;33m\u001b[0m\u001b[0m\n\u001b[0;32m-> 1124\u001b[0;31m                               callback_metrics=callback_metrics)\n\u001b[0m\u001b[1;32m   1125\u001b[0m \u001b[1;33m\u001b[0m\u001b[0m\n\u001b[1;32m   1126\u001b[0m     \u001b[1;32mdef\u001b[0m \u001b[0mevaluate\u001b[0m\u001b[1;33m(\u001b[0m\u001b[0mself\u001b[0m\u001b[1;33m,\u001b[0m \u001b[0mx\u001b[0m\u001b[1;33m,\u001b[0m \u001b[0my\u001b[0m\u001b[1;33m,\u001b[0m \u001b[0mbatch_size\u001b[0m\u001b[1;33m=\u001b[0m\u001b[1;36m32\u001b[0m\u001b[1;33m,\u001b[0m \u001b[0mverbose\u001b[0m\u001b[1;33m=\u001b[0m\u001b[1;36m1\u001b[0m\u001b[1;33m,\u001b[0m \u001b[0msample_weight\u001b[0m\u001b[1;33m=\u001b[0m\u001b[0mNone\u001b[0m\u001b[1;33m)\u001b[0m\u001b[1;33m:\u001b[0m\u001b[1;33m\u001b[0m\u001b[0m\n",
      "\u001b[0;32mc:\\python27\\lib\\site-packages\\keras\\engine\\training.pyc\u001b[0m in \u001b[0;36m_fit_loop\u001b[0;34m(self, f, ins, out_labels, batch_size, nb_epoch, verbose, callbacks, val_f, val_ins, shuffle, callback_metrics)\u001b[0m\n\u001b[1;32m    840\u001b[0m                 \u001b[0mbatch_logs\u001b[0m\u001b[1;33m[\u001b[0m\u001b[1;34m'size'\u001b[0m\u001b[1;33m]\u001b[0m \u001b[1;33m=\u001b[0m \u001b[0mlen\u001b[0m\u001b[1;33m(\u001b[0m\u001b[0mbatch_ids\u001b[0m\u001b[1;33m)\u001b[0m\u001b[1;33m\u001b[0m\u001b[0m\n\u001b[1;32m    841\u001b[0m                 \u001b[0mcallbacks\u001b[0m\u001b[1;33m.\u001b[0m\u001b[0mon_batch_begin\u001b[0m\u001b[1;33m(\u001b[0m\u001b[0mbatch_index\u001b[0m\u001b[1;33m,\u001b[0m \u001b[0mbatch_logs\u001b[0m\u001b[1;33m)\u001b[0m\u001b[1;33m\u001b[0m\u001b[0m\n\u001b[0;32m--> 842\u001b[0;31m                 \u001b[0mouts\u001b[0m \u001b[1;33m=\u001b[0m \u001b[0mf\u001b[0m\u001b[1;33m(\u001b[0m\u001b[0mins_batch\u001b[0m\u001b[1;33m)\u001b[0m\u001b[1;33m\u001b[0m\u001b[0m\n\u001b[0m\u001b[1;32m    843\u001b[0m                 \u001b[1;32mif\u001b[0m \u001b[0mtype\u001b[0m\u001b[1;33m(\u001b[0m\u001b[0mouts\u001b[0m\u001b[1;33m)\u001b[0m \u001b[1;33m!=\u001b[0m \u001b[0mlist\u001b[0m\u001b[1;33m:\u001b[0m\u001b[1;33m\u001b[0m\u001b[0m\n\u001b[1;32m    844\u001b[0m                     \u001b[0mouts\u001b[0m \u001b[1;33m=\u001b[0m \u001b[1;33m[\u001b[0m\u001b[0mouts\u001b[0m\u001b[1;33m]\u001b[0m\u001b[1;33m\u001b[0m\u001b[0m\n",
      "\u001b[0;32mc:\\python27\\lib\\site-packages\\keras\\backend\\theano_backend.pyc\u001b[0m in \u001b[0;36m__call__\u001b[0;34m(self, inputs)\u001b[0m\n\u001b[1;32m    790\u001b[0m     \u001b[1;32mdef\u001b[0m \u001b[0m__call__\u001b[0m\u001b[1;33m(\u001b[0m\u001b[0mself\u001b[0m\u001b[1;33m,\u001b[0m \u001b[0minputs\u001b[0m\u001b[1;33m)\u001b[0m\u001b[1;33m:\u001b[0m\u001b[1;33m\u001b[0m\u001b[0m\n\u001b[1;32m    791\u001b[0m         \u001b[1;32massert\u001b[0m \u001b[0mtype\u001b[0m\u001b[1;33m(\u001b[0m\u001b[0minputs\u001b[0m\u001b[1;33m)\u001b[0m \u001b[1;32min\u001b[0m \u001b[1;33m{\u001b[0m\u001b[0mlist\u001b[0m\u001b[1;33m,\u001b[0m \u001b[0mtuple\u001b[0m\u001b[1;33m}\u001b[0m\u001b[1;33m\u001b[0m\u001b[0m\n\u001b[0;32m--> 792\u001b[0;31m         \u001b[1;32mreturn\u001b[0m \u001b[0mself\u001b[0m\u001b[1;33m.\u001b[0m\u001b[0mfunction\u001b[0m\u001b[1;33m(\u001b[0m\u001b[1;33m*\u001b[0m\u001b[0minputs\u001b[0m\u001b[1;33m)\u001b[0m\u001b[1;33m\u001b[0m\u001b[0m\n\u001b[0m\u001b[1;32m    793\u001b[0m \u001b[1;33m\u001b[0m\u001b[0m\n\u001b[1;32m    794\u001b[0m \u001b[1;33m\u001b[0m\u001b[0m\n",
      "\u001b[0;32mc:\\python27\\lib\\site-packages\\theano\\compile\\function_module.pyc\u001b[0m in \u001b[0;36m__call__\u001b[0;34m(self, *args, **kwargs)\u001b[0m\n\u001b[1;32m    884\u001b[0m                     \u001b[0mnode\u001b[0m\u001b[1;33m=\u001b[0m\u001b[0mself\u001b[0m\u001b[1;33m.\u001b[0m\u001b[0mfn\u001b[0m\u001b[1;33m.\u001b[0m\u001b[0mnodes\u001b[0m\u001b[1;33m[\u001b[0m\u001b[0mself\u001b[0m\u001b[1;33m.\u001b[0m\u001b[0mfn\u001b[0m\u001b[1;33m.\u001b[0m\u001b[0mposition_of_error\u001b[0m\u001b[1;33m]\u001b[0m\u001b[1;33m,\u001b[0m\u001b[1;33m\u001b[0m\u001b[0m\n\u001b[1;32m    885\u001b[0m                     \u001b[0mthunk\u001b[0m\u001b[1;33m=\u001b[0m\u001b[0mthunk\u001b[0m\u001b[1;33m,\u001b[0m\u001b[1;33m\u001b[0m\u001b[0m\n\u001b[0;32m--> 886\u001b[0;31m                     storage_map=getattr(self.fn, 'storage_map', None))\n\u001b[0m\u001b[1;32m    887\u001b[0m             \u001b[1;32melse\u001b[0m\u001b[1;33m:\u001b[0m\u001b[1;33m\u001b[0m\u001b[0m\n\u001b[1;32m    888\u001b[0m                 \u001b[1;31m# old-style linkers raise their own exceptions\u001b[0m\u001b[1;33m\u001b[0m\u001b[1;33m\u001b[0m\u001b[0m\n",
      "\u001b[0;32mc:\\python27\\lib\\site-packages\\theano\\gof\\link.pyc\u001b[0m in \u001b[0;36mraise_with_op\u001b[0;34m(node, thunk, exc_info, storage_map)\u001b[0m\n\u001b[1;32m    323\u001b[0m         \u001b[1;31m# extra long error message in that case.\u001b[0m\u001b[1;33m\u001b[0m\u001b[1;33m\u001b[0m\u001b[0m\n\u001b[1;32m    324\u001b[0m         \u001b[1;32mpass\u001b[0m\u001b[1;33m\u001b[0m\u001b[0m\n\u001b[0;32m--> 325\u001b[0;31m     \u001b[0mreraise\u001b[0m\u001b[1;33m(\u001b[0m\u001b[0mexc_type\u001b[0m\u001b[1;33m,\u001b[0m \u001b[0mexc_value\u001b[0m\u001b[1;33m,\u001b[0m \u001b[0mexc_trace\u001b[0m\u001b[1;33m)\u001b[0m\u001b[1;33m\u001b[0m\u001b[0m\n\u001b[0m\u001b[1;32m    326\u001b[0m \u001b[1;33m\u001b[0m\u001b[0m\n\u001b[1;32m    327\u001b[0m \u001b[1;33m\u001b[0m\u001b[0m\n",
      "\u001b[0;32mc:\\python27\\lib\\site-packages\\theano\\compile\\function_module.pyc\u001b[0m in \u001b[0;36m__call__\u001b[0;34m(self, *args, **kwargs)\u001b[0m\n\u001b[1;32m    871\u001b[0m         \u001b[1;32mtry\u001b[0m\u001b[1;33m:\u001b[0m\u001b[1;33m\u001b[0m\u001b[0m\n\u001b[1;32m    872\u001b[0m             \u001b[0moutputs\u001b[0m \u001b[1;33m=\u001b[0m\u001b[0;31m\\\u001b[0m\u001b[1;33m\u001b[0m\u001b[0m\n\u001b[0;32m--> 873\u001b[0;31m                 \u001b[0mself\u001b[0m\u001b[1;33m.\u001b[0m\u001b[0mfn\u001b[0m\u001b[1;33m(\u001b[0m\u001b[1;33m)\u001b[0m \u001b[1;32mif\u001b[0m \u001b[0moutput_subset\u001b[0m \u001b[1;32mis\u001b[0m \u001b[0mNone\u001b[0m \u001b[1;32melse\u001b[0m\u001b[0;31m\\\u001b[0m\u001b[1;33m\u001b[0m\u001b[0m\n\u001b[0m\u001b[1;32m    874\u001b[0m                 \u001b[0mself\u001b[0m\u001b[1;33m.\u001b[0m\u001b[0mfn\u001b[0m\u001b[1;33m(\u001b[0m\u001b[0moutput_subset\u001b[0m\u001b[1;33m=\u001b[0m\u001b[0moutput_subset\u001b[0m\u001b[1;33m)\u001b[0m\u001b[1;33m\u001b[0m\u001b[0m\n\u001b[1;32m    875\u001b[0m         \u001b[1;32mexcept\u001b[0m \u001b[0mException\u001b[0m\u001b[1;33m:\u001b[0m\u001b[1;33m\u001b[0m\u001b[0m\n",
      "\u001b[0;31mMemoryError\u001b[0m: Error allocating 134217728 bytes of device memory (CNMEM_STATUS_OUT_OF_MEMORY).\nApply node that caused the error: GpuAlloc(GpuDimShuffle{0,1,2,3,x}.0, Shape_i{0}.0, TensorConstant{32}, Elemwise{Composite{Switch(EQ(i0, i1), i2, i0)}}.0, Elemwise{switch,no_inplace}.0, TensorConstant{2})\nToposort index: 890\nInputs types: [CudaNdarrayType(float32, (False, False, False, False, True)), TensorType(int64, scalar), TensorType(int64, scalar), TensorType(int64, scalar), TensorType(int64, scalar), TensorType(int8, scalar)]\nInputs shapes: [(1, 32, 1024, 512, 1), (), (), (), (), ()]\nInputs strides: [(0, 524288, 512, 1, 0), (), (), (), (), ()]\nInputs values: ['not shown', array(1L, dtype=int64), array(32L, dtype=int64), array(1024L, dtype=int64), array(512L, dtype=int64), array(2, dtype=int8)]\nOutputs clients: [[GpuReshape{4}(GpuAlloc.0, MakeVector{dtype='int64'}.0)]]\n\nHINT: Re-running with most Theano optimization disabled could give you a back-trace of when this node was created. This can be done with by setting the Theano flag 'optimizer=fast_compile'. If that does not work, Theano optimizations can be disabled with 'optimizer=None'.\nHINT: Use the Theano flag 'exception_verbosity=high' for a debugprint and storage map footprint of this apply node."
     ]
    }
   ],
   "source": [
    "import theano.tensor as T\n",
    "from keras import backend as K\n",
    "from keras.engine.topology import Layer\n",
    "class PixelLayer(Layer):\n",
    "    def __init__(self, **kwargs):\n",
    "        super(PixelLayer, self).__init__(**kwargs)\n",
    "\n",
    "    def build(self, input_shape):\n",
    "        self.trainable_weights = []\n",
    "\n",
    "    def call(self, input, mask=None):\n",
    "        (bs, cc, h, w) = input.shape\n",
    "        tmp = input.transpose((0,2,3,1))\n",
    "        tmp = tmp.reshape((bs*h*w, cc))\n",
    "        tmp = T.nnet.nnet.softmax(tmp)\n",
    "        output = tmp.reshape((bs, h, w, cc))\n",
    "        output = output.transpose((0,3,1,2))\n",
    "        return output\n",
    "\n",
    "    def get_output_shape_for(self, shape):\n",
    "        return (shape[0], shape[1], shape[2], shape[3])\n",
    "    \n",
    "X_H = get_new_batch('inputs', 0.25)\n",
    "\n",
    "X_G = get_new_batch('outputs', 0.25)\n",
    "\n",
    "print X_H.shape\n",
    "print X_G.shape\n",
    "#X_H = np.transpose(X_H, (0,2,3,1))\n",
    "#X_G = np.transpose(X_G, (0,2,3,1))\n",
    "#input_a = Input(shape=(3,None,None))\n",
    "\n",
    "filter_set = [32,32,32,32,16,16]\n",
    "#init = Dropout(0.25)(init)\n",
    "inita = Input(shape=(3,1024,1024))\n",
    "init = inita\n",
    "#initd = Dropout(0.25)(init)\n",
    "n_layers = len(filter_set)\n",
    "cs = []\n",
    "for i in range(n_layers-1):\n",
    "    #init = Dropout(0.1)(init)\n",
    "    \n",
    "    in_layer = Convolution2D(filter_set[i], 3, 3, activation='relu', border_mode='same')(init)\n",
    "    x = BatchNormalization(mode=2, axis=1)(in_layer)\n",
    "    cs.append(Convolution2D(filter_set[i], 3, 3, activation='relu', border_mode='same')(x))\n",
    "    cs[i] = BatchNormalization(mode=2, axis=1)(cs[i])\n",
    "    init = MaxPooling2D((2, 2))(cs[i])\n",
    "init = Convolution2D(filter_set[i+1], 3, 3, activation='relu', border_mode='same')(init)\n",
    "\n",
    "\n",
    "for i in range(n_layers-1):\n",
    "    #init = BatchNormalization()(init)\n",
    "    init = UpSampling2D()(init)\n",
    "    ck = Convolution2D(filter_set[n_layers-i-2], 3, 3, activation='relu', border_mode='same')(init)\n",
    "    ck = BatchNormalization(mode=2, axis=1)(ck)\n",
    "    ck = Convolution2D(filter_set[n_layers-i-2], 3, 3, activation='relu', border_mode='same')(ck)\n",
    "    ck = BatchNormalization(mode=2, axis=1)(ck)\n",
    "    #print cs[n_layers-i-2].shape, ck.shape\n",
    "    init = merge([cs[n_layers-i-2], ck], mode='sum')\n",
    "#init = UpSampling2D()(m)\n",
    "\n",
    "decoded = Convolution2D(3, 5, 5, activation='linear', border_mode='same')(init)\n",
    "decoded = BatchNormalization(mode=2, axis=1)(decoded)\n",
    "decoded = PixelLayer()(decoded)\n",
    "# decoded = Convolution2D(1, 5, 5, activation='linear', border_mode='same')(c1)\n",
    "import keras\n",
    "es = keras.callbacks.EarlyStopping(monitor='val_loss', patience=10)\n",
    "er = keras.callbacks.ModelCheckpoint('segcheck', monitor='val_loss', verbose=0, save_best_only=True, save_weights_only = True)\n",
    "full_model = Model(input=inita, output=decoded)\n",
    "full_model.compile(loss='mse',\n",
    "        optimizer='Nadam')\n",
    "full_model.summary()\n",
    "\n",
    "#for epoch in range(50):\n",
    "errors = []\n",
    "# for i in range(15):\n",
    "  #print np.concatenate(image_batch_b).shape\n",
    "train_inds = range(0,X_H.shape[0])\n",
    "#test_inds = range(7,8)\n",
    "#X_G = np.expand_dims(X_G, axis = 1)\n",
    "\n",
    "from keras.models import load_model\n",
    "\n",
    "#model.save('my_model.h5')  # creates a HDF5 file 'my_model.h5'\n",
    "#del model  # deletes the existing model\n",
    "\n",
    "# returns a compiled model\n",
    "# identical to the previous one\n",
    "\n",
    "\n",
    "full_model.fit(X_H[train_inds] / 255., X_G[train_inds] / 255., batch_size = 1, nb_epoch = 256, validation_split = 0.15, callbacks = [es, er])\n",
    "#full_model.load_weights('segcheck')"
   ]
  },
  {
   "cell_type": "code",
   "execution_count": null,
   "metadata": {
    "collapsed": false
   },
   "outputs": [],
   "source": [
    "X_H.shape"
   ]
  },
  {
   "cell_type": "code",
   "execution_count": null,
   "metadata": {
    "collapsed": false
   },
   "outputs": [],
   "source": [
    "X_H = get_new_batch('.\\inputs', 0.25)\n",
    "\n",
    "X_G = get_new_batch('.\\outputs', 0.25)\n",
    "\n",
    "print np.max(X_G)"
   ]
  },
  {
   "cell_type": "code",
   "execution_count": null,
   "metadata": {
    "collapsed": false
   },
   "outputs": [],
   "source": [
    "print np.max(X_G[:,0,:,:])"
   ]
  },
  {
   "cell_type": "code",
   "execution_count": null,
   "metadata": {
    "collapsed": false
   },
   "outputs": [],
   "source": [
    "\n",
    "X_test = X_H[test_inds]\n",
    "Y_test = X_G[test_inds]\n",
    "\n",
    "results = full_model.predict(X_test / 255. , batch_size = 1)\n",
    "\n",
    "#results = np.minimum(np.maximum(1.,results), 3.)\n",
    "\n",
    "#results = np.round(results)"
   ]
  },
  {
   "cell_type": "code",
   "execution_count": null,
   "metadata": {
    "collapsed": false
   },
   "outputs": [],
   "source": [
    "class_results = np.argmax(results, axis = 1)"
   ]
  },
  {
   "cell_type": "code",
   "execution_count": null,
   "metadata": {
    "collapsed": false
   },
   "outputs": [],
   "source": [
    "import matplotlib\n",
    "import numpy as np\n",
    "import matplotlib.pyplot as plt\n",
    "%matplotlib inline  \n",
    "\n",
    "plt.imshow(np.transpose(class_results[0],(0,1)), cmap= plt.get_cmap('gray'))"
   ]
  },
  {
   "cell_type": "code",
   "execution_count": null,
   "metadata": {
    "collapsed": false
   },
   "outputs": [],
   "source": []
  },
  {
   "cell_type": "code",
   "execution_count": null,
   "metadata": {
    "collapsed": false
   },
   "outputs": [],
   "source": [
    "import matplotlib\n",
    "import numpy as np\n",
    "import matplotlib.pyplot as plt\n",
    "%matplotlib inline  \n",
    "\n",
    "plt.imshow(np.transpose(X_G[test_inds[0]] / 255.,(1,2,0))[:,:,(2,1,0)])"
   ]
  },
  {
   "cell_type": "code",
   "execution_count": null,
   "metadata": {
    "collapsed": false
   },
   "outputs": [],
   "source": [
    "import matplotlib\n",
    "import numpy as np\n",
    "import matplotlib.pyplot as plt\n",
    "%matplotlib inline  \n",
    "\n",
    "plt.imshow(np.transpose(results[0],(1,2,0))[:,:,(2,1,0)])"
   ]
  },
  {
   "cell_type": "code",
   "execution_count": null,
   "metadata": {
    "collapsed": false
   },
   "outputs": [],
   "source": [
    "results[0]"
   ]
  },
  {
   "cell_type": "code",
   "execution_count": null,
   "metadata": {
    "collapsed": false
   },
   "outputs": [],
   "source": [
    "img_idx = 0\n",
    "#import PyQt4\n",
    "%matplotlib inline\n",
    "resultsa = 1. * (results > 0.5)\n",
    "fig = plt.figure()\n",
    "for j in range(1):\n",
    "    a=fig.add_subplot(3,4,1+j*4)\n",
    "    plt.imshow(np.transpose(X_H[test_inds[img_idx+j]],(1,2,0))[:,:,(2,1,0)])\n",
    "    a.set_title('Input')\n",
    "    plt.axis('off')\n",
    "    a=fig.add_subplot(3,4,2+j*4)\n",
    "    plt.imshow(np.transpose(X_G[test_inds[img_idx+j]],(1,2,0))[:,:,(2,1,0)] / 255.)\n",
    "    a.set_title('Ground Truth')\n",
    "    plt.axis('off')\n",
    "    a=fig.add_subplot(3,4,3+j*4)\n",
    "    plt.imshow(np.transpose(resultsa[img_idx+j],(1,2,0))[:,:,(2,1,0)])\n",
    "    a.set_title('Our Prediction')\n",
    "    plt.axis('off')\n",
    "    a=fig.add_subplot(3,4,4+j*4)\n",
    "    plt.imshow(np.transpose(class_results[img_idx+j],(0,1)), cmap= plt.get_cmap('gray'))\n",
    "    a.set_title('Hard Prediction')\n",
    "    plt.axis('off')\n",
    "    cv2.imwrite('input_' + str(j) + '.png',   np.transpose(X_H[test_inds[img_idx+j]],(1,2,0)))\n",
    "    cv2.imwrite('ground_truth_' + str(j) + '.png', np.transpose(X_G[test_inds[img_idx+j]],(1,2,0))[:,:,(0,1,2)])\n",
    "    cv2.imwrite('soft_predictions_' + str(j) + '.png', 255. * np.transpose(resultsa[img_idx+j],(1,2,0)))\n",
    "    cv2.imwrite('hard_predictions_' + str(j) + '.png', 127.5 * np.transpose(class_results[img_idx+j],(0,1)))"
   ]
  },
  {
   "cell_type": "code",
   "execution_count": null,
   "metadata": {
    "collapsed": false
   },
   "outputs": [],
   "source": [
    "np.max(results)"
   ]
  },
  {
   "cell_type": "code",
   "execution_count": null,
   "metadata": {
    "collapsed": false
   },
   "outputs": [],
   "source": [
    "X_H[test_inds[img_idx]].shape"
   ]
  },
  {
   "cell_type": "code",
   "execution_count": null,
   "metadata": {
    "collapsed": false
   },
   "outputs": [],
   "source": [
    "# a = {}\n",
    "a['X_G'] = X_G_new\n",
    "a['X_H'] = X_H\n",
    "\n",
    "import scipy.io as io\n",
    "io.savemat('inputs',a)"
   ]
  },
  {
   "cell_type": "code",
   "execution_count": null,
   "metadata": {
    "collapsed": false
   },
   "outputs": [],
   "source": [
    "np.max(X_G_new[test_inds[0]])"
   ]
  },
  {
   "cell_type": "code",
   "execution_count": null,
   "metadata": {
    "collapsed": false
   },
   "outputs": [],
   "source": [
    "results[0]"
   ]
  },
  {
   "cell_type": "code",
   "execution_count": null,
   "metadata": {
    "collapsed": false
   },
   "outputs": [],
   "source": [
    "X_G_new[test_inds[0]]"
   ]
  },
  {
   "cell_type": "code",
   "execution_count": null,
   "metadata": {
    "collapsed": false
   },
   "outputs": [],
   "source": [
    "X_G_new[test_inds[0]].shape"
   ]
  },
  {
   "cell_type": "code",
   "execution_count": null,
   "metadata": {
    "collapsed": false
   },
   "outputs": [],
   "source": [
    "\n",
    "plt.imshow(results[1,0]/ 3.)"
   ]
  },
  {
   "cell_type": "code",
   "execution_count": null,
   "metadata": {
    "collapsed": false
   },
   "outputs": [],
   "source": [
    "plt.imshow(X_G[1,0] / 3.)"
   ]
  },
  {
   "cell_type": "code",
   "execution_count": null,
   "metadata": {
    "collapsed": false
   },
   "outputs": [],
   "source": [
    "results[1,0].shape"
   ]
  },
  {
   "cell_type": "code",
   "execution_count": null,
   "metadata": {
    "collapsed": false
   },
   "outputs": [],
   "source": [
    "plt.imshow(np.transpose(X_H[1],(2,1,0)) / 3.)"
   ]
  },
  {
   "cell_type": "code",
   "execution_count": null,
   "metadata": {
    "collapsed": false
   },
   "outputs": [],
   "source": [
    "train_inds = range(0,20)\n",
    "test_inds = range(20,30)\n",
    "plt.imshow(np.transpose(X_test[1]/3.,(1,2,0)))"
   ]
  },
  {
   "cell_type": "code",
   "execution_count": null,
   "metadata": {
    "collapsed": false
   },
   "outputs": [],
   "source": [
    "plt.imshow(np.transpose(X_H[21],(1,2,0)) / 3.)"
   ]
  },
  {
   "cell_type": "code",
   "execution_count": null,
   "metadata": {
    "collapsed": true
   },
   "outputs": [],
   "source": []
  },
  {
   "cell_type": "code",
   "execution_count": null,
   "metadata": {
    "collapsed": true
   },
   "outputs": [],
   "source": []
  },
  {
   "cell_type": "code",
   "execution_count": null,
   "metadata": {
    "collapsed": true
   },
   "outputs": [],
   "source": []
  },
  {
   "cell_type": "code",
   "execution_count": null,
   "metadata": {
    "collapsed": true
   },
   "outputs": [],
   "source": []
  },
  {
   "cell_type": "code",
   "execution_count": null,
   "metadata": {
    "collapsed": true
   },
   "outputs": [],
   "source": []
  },
  {
   "cell_type": "code",
   "execution_count": null,
   "metadata": {
    "collapsed": true
   },
   "outputs": [],
   "source": []
  }
 ],
 "metadata": {
  "anaconda-cloud": {},
  "kernelspec": {
   "display_name": "Python 2",
   "language": "python",
   "name": "python2"
  },
  "language_info": {
   "codemirror_mode": {
    "name": "ipython",
    "version": 2
   },
   "file_extension": ".py",
   "mimetype": "text/x-python",
   "name": "python",
   "nbconvert_exporter": "python",
   "pygments_lexer": "ipython2",
   "version": "2.7.12"
  }
 },
 "nbformat": 4,
 "nbformat_minor": 0
}
